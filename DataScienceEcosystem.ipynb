{
 "cells": [
  {
   "cell_type": "markdown",
   "id": "af2d7fd4-cc81-4393-ae70-2fc3a692158b",
   "metadata": {},
   "source": [
    "# Data Science Tools and Ecosystem"
   ]
  },
  {
   "cell_type": "markdown",
   "id": "0f97c9ee-dc74-4375-b6c9-4ff9482916cd",
   "metadata": {},
   "source": [
    "En este cuaderno, se resumen las herramientas y ecosistemas de ciencia de datos."
   ]
  },
  {
   "cell_type": "markdown",
   "id": "67a6565f-5bab-4c5f-81f3-465412a25bcf",
   "metadata": {},
   "source": [
    "**Objetivos:**\n",
    "* Listar lenguajes populares para Ciencia de Datos\n",
    "* Listar bibliotecas populares para Ciencia de Datos\n",
    "* Crear tabla de herramientas de ciencia de datos "
   ]
  },
  {
   "cell_type": "markdown",
   "id": "2304c468-1a10-4df6-a12d-6cc33964171d",
   "metadata": {},
   "source": [
    "Algunos de los lenguajes populares que utilizan los científicos de datos son:\n",
    "1. python\n",
    "2. R\n",
    "3. julia\n",
    "4. SQL\n",
    "5. java"
   ]
  },
  {
   "cell_type": "markdown",
   "id": "a8a49b24-403a-4682-b599-315196c314aa",
   "metadata": {},
   "source": [
    "Algunas de las bibliotecas comúnmente utilizadas por los científicos de datos incluyen\n",
    "1. pandas\n",
    "2. numpy\n",
    "3. plotly\n",
    "4. Scikit"
   ]
  },
  {
   "cell_type": "markdown",
   "id": "5172a59f-fb8c-4066-b80d-44c843542043",
   "metadata": {},
   "source": [
    "|Herramientas de Ciencia de Datos|\n",
    "|--------------------------------|\n",
    "|           mysql                |\n",
    "|           kafka                |\n",
    "|           kibana               |\n"
   ]
  },
  {
   "cell_type": "markdown",
   "id": "3f1322d1-b7ae-4288-a608-6f0cae040416",
   "metadata": {},
   "source": [
    "### A continuación, se presentan algunos ejemplos de evaluación de expresiones aritméticas en Python\n",
    "2-3"
   ]
  },
  {
   "cell_type": "code",
   "execution_count": 6,
   "id": "61856843-f362-47b2-baf8-d2ec0d122ee9",
   "metadata": {},
   "outputs": [
    {
     "data": {
      "text/plain": [
       "17"
      ]
     },
     "execution_count": 6,
     "metadata": {},
     "output_type": "execute_result"
    }
   ],
   "source": [
    "# esta es una expresión aritmética simple para multiplicar y luego sumar enteros\n",
    "(3*4)+5"
   ]
  },
  {
   "cell_type": "code",
   "execution_count": 8,
   "id": "0b860a41-6e9a-442c-8178-d3e88bdfce61",
   "metadata": {},
   "outputs": [
    {
     "data": {
      "text/plain": [
       "3.3333333333333335"
      ]
     },
     "execution_count": 8,
     "metadata": {},
     "output_type": "execute_result"
    }
   ],
   "source": [
    "# Esto convertirá 200 minutos a horas dividiendo por 60\n",
    "200/60"
   ]
  },
  {
   "cell_type": "markdown",
   "id": "3a985e61-376e-415e-a743-938fe44ec39e",
   "metadata": {},
   "source": [
    "# Autor\n",
    "Eric Contreras Ledesma"
   ]
  },
  {
   "cell_type": "code",
   "execution_count": null,
   "id": "3012443b-4aa2-4bbf-b38c-48ff8f901f84",
   "metadata": {},
   "outputs": [],
   "source": []
  },
  {
   "cell_type": "code",
   "execution_count": null,
   "id": "ec4535ad-95f1-4958-a102-ef697f7fce7c",
   "metadata": {},
   "outputs": [],
   "source": []
  },
  {
   "cell_type": "code",
   "execution_count": null,
   "id": "593aa5bd-a035-40da-bfa4-f798eb7561bf",
   "metadata": {},
   "outputs": [],
   "source": []
  },
  {
   "cell_type": "code",
   "execution_count": null,
   "id": "b3676d10-20fd-4056-9861-10363f7dad84",
   "metadata": {},
   "outputs": [],
   "source": []
  },
  {
   "cell_type": "code",
   "execution_count": null,
   "id": "34abb225-2438-43e2-9c02-f2e1578eddd9",
   "metadata": {},
   "outputs": [],
   "source": []
  },
  {
   "cell_type": "code",
   "execution_count": null,
   "id": "75af2f7e-e9a5-44b5-8ef8-796e7ce43ded",
   "metadata": {},
   "outputs": [],
   "source": []
  },
  {
   "cell_type": "code",
   "execution_count": null,
   "id": "f5d25dd4-1890-4881-9cf6-159e46e03238",
   "metadata": {},
   "outputs": [],
   "source": []
  },
  {
   "cell_type": "code",
   "execution_count": null,
   "id": "7eba6776-f7b9-439b-99c5-273d4872d0e7",
   "metadata": {},
   "outputs": [],
   "source": []
  },
  {
   "cell_type": "code",
   "execution_count": null,
   "id": "481859b7-a94f-438d-a75e-355a1fd7981d",
   "metadata": {},
   "outputs": [],
   "source": []
  },
  {
   "cell_type": "code",
   "execution_count": null,
   "id": "e18954d8-6763-43cc-9328-fa8287fc7eda",
   "metadata": {},
   "outputs": [],
   "source": []
  }
 ],
 "metadata": {
  "kernelspec": {
   "display_name": "Python 3 (ipykernel)",
   "language": "python",
   "name": "python3"
  },
  "language_info": {
   "codemirror_mode": {
    "name": "ipython",
    "version": 3
   },
   "file_extension": ".py",
   "mimetype": "text/x-python",
   "name": "python",
   "nbconvert_exporter": "python",
   "pygments_lexer": "ipython3",
   "version": "3.12.7"
  }
 },
 "nbformat": 4,
 "nbformat_minor": 5
}
